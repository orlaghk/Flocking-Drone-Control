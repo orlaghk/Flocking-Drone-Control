{
 "cells": [
  {
   "cell_type": "code",
<<<<<<< HEAD
   "execution_count": 17,
=======
   "execution_count": 6,
>>>>>>> 9290357 (changes to dispersing model)
   "metadata": {},
   "outputs": [
    {
     "ename": "KeyboardInterrupt",
     "evalue": "",
     "output_type": "error",
     "traceback": [
      "\u001b[0;31m---------------------------------------------------------------------------\u001b[0m",
      "\u001b[0;31mKeyboardInterrupt\u001b[0m                         Traceback (most recent call last)",
      "\u001b[1;32m/Users/orlagh/Documents/4thYear/IM/Flocking-Drone-Control/attracting_mode.ipynb Cell 1\u001b[0m line \u001b[0;36m2\n\u001b[1;32m    <a href='vscode-notebook-cell:/Users/orlagh/Documents/4thYear/IM/Flocking-Drone-Control/attracting_mode.ipynb#W0sZmlsZQ%3D%3D?line=227'>228</a>\u001b[0m drone_x, drone_y, drone_vx, drone_vy, in_target_area \u001b[39m=\u001b[39m update_drones(drone_x, drone_y, drone_vx, drone_vy, positions[:, \u001b[39m0\u001b[39m], positions[:, \u001b[39m1\u001b[39m], L, vd, dt, stuck_birds, Rd, N, in_target_area)\n\u001b[1;32m    <a href='vscode-notebook-cell:/Users/orlagh/Documents/4thYear/IM/Flocking-Drone-Control/attracting_mode.ipynb#W0sZmlsZQ%3D%3D?line=228'>229</a>\u001b[0m positions, velocities \u001b[39m=\u001b[39m update_birds(positions, velocities, R, r_free, r_stuck, v_max, drone_x, drone_y, vd, dt, Rd, stuck_birds, L)\n\u001b[0;32m--> <a href='vscode-notebook-cell:/Users/orlagh/Documents/4thYear/IM/Flocking-Drone-Control/attracting_mode.ipynb#W0sZmlsZQ%3D%3D?line=229'>230</a>\u001b[0m visualize(positions, velocities, drone_x, drone_y, stuck_birds)\n\u001b[1;32m    <a href='vscode-notebook-cell:/Users/orlagh/Documents/4thYear/IM/Flocking-Drone-Control/attracting_mode.ipynb#W0sZmlsZQ%3D%3D?line=230'>231</a>\u001b[0m clear_output(wait\u001b[39m=\u001b[39m\u001b[39mTrue\u001b[39;00m)\n",
      "\u001b[1;32m/Users/orlagh/Documents/4thYear/IM/Flocking-Drone-Control/attracting_mode.ipynb Cell 1\u001b[0m line \u001b[0;36m2\n\u001b[1;32m    <a href='vscode-notebook-cell:/Users/orlagh/Documents/4thYear/IM/Flocking-Drone-Control/attracting_mode.ipynb#W0sZmlsZQ%3D%3D?line=204'>205</a>\u001b[0m         plt\u001b[39m.\u001b[39mquiver(positions[i, \u001b[39m0\u001b[39m], positions[i, \u001b[39m1\u001b[39m], velocities[i, \u001b[39m0\u001b[39m], velocities[i, \u001b[39m1\u001b[39m], color\u001b[39m=\u001b[39m\u001b[39m'\u001b[39m\u001b[39mgreen\u001b[39m\u001b[39m'\u001b[39m, angles\u001b[39m=\u001b[39m\u001b[39m'\u001b[39m\u001b[39mxy\u001b[39m\u001b[39m'\u001b[39m, scale_units\u001b[39m=\u001b[39m\u001b[39m'\u001b[39m\u001b[39mxy\u001b[39m\u001b[39m'\u001b[39m, scale\u001b[39m=\u001b[39m\u001b[39m25\u001b[39m, width\u001b[39m=\u001b[39m\u001b[39m0.005\u001b[39m, headwidth\u001b[39m=\u001b[39m\u001b[39m3\u001b[39m, headlength\u001b[39m=\u001b[39m\u001b[39m5\u001b[39m)\n\u001b[1;32m    <a href='vscode-notebook-cell:/Users/orlagh/Documents/4thYear/IM/Flocking-Drone-Control/attracting_mode.ipynb#W0sZmlsZQ%3D%3D?line=205'>206</a>\u001b[0m     \u001b[39melse\u001b[39;00m:\n\u001b[0;32m--> <a href='vscode-notebook-cell:/Users/orlagh/Documents/4thYear/IM/Flocking-Drone-Control/attracting_mode.ipynb#W0sZmlsZQ%3D%3D?line=206'>207</a>\u001b[0m         plt\u001b[39m.\u001b[39;49mquiver(positions[i, \u001b[39m0\u001b[39;49m], positions[i, \u001b[39m1\u001b[39;49m], velocities[i, \u001b[39m0\u001b[39;49m], velocities[i, \u001b[39m1\u001b[39;49m], color\u001b[39m=\u001b[39;49m\u001b[39m'\u001b[39;49m\u001b[39mred\u001b[39;49m\u001b[39m'\u001b[39;49m, angles\u001b[39m=\u001b[39;49m\u001b[39m'\u001b[39;49m\u001b[39mxy\u001b[39;49m\u001b[39m'\u001b[39;49m, scale_units\u001b[39m=\u001b[39;49m\u001b[39m'\u001b[39;49m\u001b[39mxy\u001b[39;49m\u001b[39m'\u001b[39;49m, scale\u001b[39m=\u001b[39;49m\u001b[39m25\u001b[39;49m, width\u001b[39m=\u001b[39;49m\u001b[39m0.005\u001b[39;49m, headwidth\u001b[39m=\u001b[39;49m\u001b[39m3\u001b[39;49m, headlength\u001b[39m=\u001b[39;49m\u001b[39m5\u001b[39;49m)\n\u001b[1;32m    <a href='vscode-notebook-cell:/Users/orlagh/Documents/4thYear/IM/Flocking-Drone-Control/attracting_mode.ipynb#W0sZmlsZQ%3D%3D?line=208'>209</a>\u001b[0m plt\u001b[39m.\u001b[39mscatter(drone_x, drone_y, color\u001b[39m=\u001b[39m\u001b[39m'\u001b[39m\u001b[39mblue\u001b[39m\u001b[39m'\u001b[39m, s\u001b[39m=\u001b[39m\u001b[39m100\u001b[39m, marker\u001b[39m=\u001b[39m\u001b[39m'\u001b[39m\u001b[39md\u001b[39m\u001b[39m'\u001b[39m)\n\u001b[1;32m    <a href='vscode-notebook-cell:/Users/orlagh/Documents/4thYear/IM/Flocking-Drone-Control/attracting_mode.ipynb#W0sZmlsZQ%3D%3D?line=210'>211</a>\u001b[0m \u001b[39m# Add text for labels and bird counts\u001b[39;00m\n",
      "File \u001b[0;32m/usr/local/lib/python3.9/site-packages/matplotlib/pyplot.py:2788\u001b[0m, in \u001b[0;36mquiver\u001b[0;34m(data, *args, **kwargs)\u001b[0m\n\u001b[1;32m   2786\u001b[0m \u001b[39m@_copy_docstring_and_deprecators\u001b[39m(Axes\u001b[39m.\u001b[39mquiver)\n\u001b[1;32m   2787\u001b[0m \u001b[39mdef\u001b[39;00m \u001b[39mquiver\u001b[39m(\u001b[39m*\u001b[39margs, data\u001b[39m=\u001b[39m\u001b[39mNone\u001b[39;00m, \u001b[39m*\u001b[39m\u001b[39m*\u001b[39mkwargs):\n\u001b[0;32m-> 2788\u001b[0m     __ret \u001b[39m=\u001b[39m gca()\u001b[39m.\u001b[39;49mquiver(\n\u001b[1;32m   2789\u001b[0m         \u001b[39m*\u001b[39;49margs, \u001b[39m*\u001b[39;49m\u001b[39m*\u001b[39;49m({\u001b[39m\"\u001b[39;49m\u001b[39mdata\u001b[39;49m\u001b[39m\"\u001b[39;49m: data} \u001b[39mif\u001b[39;49;00m data \u001b[39mis\u001b[39;49;00m \u001b[39mnot\u001b[39;49;00m \u001b[39mNone\u001b[39;49;00m \u001b[39melse\u001b[39;49;00m {}),\n\u001b[1;32m   2790\u001b[0m         \u001b[39m*\u001b[39;49m\u001b[39m*\u001b[39;49mkwargs)\n\u001b[1;32m   2791\u001b[0m     sci(__ret)\n\u001b[1;32m   2792\u001b[0m     \u001b[39mreturn\u001b[39;00m __ret\n",
      "File \u001b[0;32m/usr/local/lib/python3.9/site-packages/matplotlib/__init__.py:1412\u001b[0m, in \u001b[0;36m_preprocess_data.<locals>.inner\u001b[0;34m(ax, data, *args, **kwargs)\u001b[0m\n\u001b[1;32m   1409\u001b[0m \u001b[39m@functools\u001b[39m\u001b[39m.\u001b[39mwraps(func)\n\u001b[1;32m   1410\u001b[0m \u001b[39mdef\u001b[39;00m \u001b[39minner\u001b[39m(ax, \u001b[39m*\u001b[39margs, data\u001b[39m=\u001b[39m\u001b[39mNone\u001b[39;00m, \u001b[39m*\u001b[39m\u001b[39m*\u001b[39mkwargs):\n\u001b[1;32m   1411\u001b[0m     \u001b[39mif\u001b[39;00m data \u001b[39mis\u001b[39;00m \u001b[39mNone\u001b[39;00m:\n\u001b[0;32m-> 1412\u001b[0m         \u001b[39mreturn\u001b[39;00m func(ax, \u001b[39m*\u001b[39;49m\u001b[39mmap\u001b[39;49m(sanitize_sequence, args), \u001b[39m*\u001b[39;49m\u001b[39m*\u001b[39;49mkwargs)\n\u001b[1;32m   1414\u001b[0m     bound \u001b[39m=\u001b[39m new_sig\u001b[39m.\u001b[39mbind(ax, \u001b[39m*\u001b[39margs, \u001b[39m*\u001b[39m\u001b[39m*\u001b[39mkwargs)\n\u001b[1;32m   1415\u001b[0m     auto_label \u001b[39m=\u001b[39m (bound\u001b[39m.\u001b[39marguments\u001b[39m.\u001b[39mget(label_namer)\n\u001b[1;32m   1416\u001b[0m                   \u001b[39mor\u001b[39;00m bound\u001b[39m.\u001b[39mkwargs\u001b[39m.\u001b[39mget(label_namer))\n",
      "File \u001b[0;32m/usr/local/lib/python3.9/site-packages/matplotlib/axes/_axes.py:4989\u001b[0m, in \u001b[0;36mAxes.quiver\u001b[0;34m(self, *args, **kwargs)\u001b[0m\n\u001b[1;32m   4987\u001b[0m args \u001b[39m=\u001b[39m \u001b[39mself\u001b[39m\u001b[39m.\u001b[39m_quiver_units(args, kwargs)\n\u001b[1;32m   4988\u001b[0m q \u001b[39m=\u001b[39m mquiver\u001b[39m.\u001b[39mQuiver(\u001b[39mself\u001b[39m, \u001b[39m*\u001b[39margs, \u001b[39m*\u001b[39m\u001b[39m*\u001b[39mkwargs)\n\u001b[0;32m-> 4989\u001b[0m \u001b[39mself\u001b[39;49m\u001b[39m.\u001b[39;49madd_collection(q, autolim\u001b[39m=\u001b[39;49m\u001b[39mTrue\u001b[39;49;00m)\n\u001b[1;32m   4990\u001b[0m \u001b[39mself\u001b[39m\u001b[39m.\u001b[39m_request_autoscale_view()\n\u001b[1;32m   4991\u001b[0m \u001b[39mreturn\u001b[39;00m q\n",
      "File \u001b[0;32m/usr/local/lib/python3.9/site-packages/matplotlib/axes/_base.py:2243\u001b[0m, in \u001b[0;36m_AxesBase.add_collection\u001b[0;34m(self, collection, autolim)\u001b[0m\n\u001b[1;32m   2239\u001b[0m \u001b[39mif\u001b[39;00m autolim:\n\u001b[1;32m   2240\u001b[0m     \u001b[39m# Make sure viewLim is not stale (mostly to match\u001b[39;00m\n\u001b[1;32m   2241\u001b[0m     \u001b[39m# pre-lazy-autoscale behavior, which is not really better).\u001b[39;00m\n\u001b[1;32m   2242\u001b[0m     \u001b[39mself\u001b[39m\u001b[39m.\u001b[39m_unstale_viewLim()\n\u001b[0;32m-> 2243\u001b[0m     datalim \u001b[39m=\u001b[39m collection\u001b[39m.\u001b[39;49mget_datalim(\u001b[39mself\u001b[39;49m\u001b[39m.\u001b[39;49mtransData)\n\u001b[1;32m   2244\u001b[0m     points \u001b[39m=\u001b[39m datalim\u001b[39m.\u001b[39mget_points()\n\u001b[1;32m   2245\u001b[0m     \u001b[39mif\u001b[39;00m \u001b[39mnot\u001b[39;00m np\u001b[39m.\u001b[39misinf(datalim\u001b[39m.\u001b[39mminpos)\u001b[39m.\u001b[39mall():\n\u001b[1;32m   2246\u001b[0m         \u001b[39m# By definition, if minpos (minimum positive value) is set\u001b[39;00m\n\u001b[1;32m   2247\u001b[0m         \u001b[39m# (i.e., non-inf), then min(points) <= minpos <= max(points),\u001b[39;00m\n\u001b[1;32m   2248\u001b[0m         \u001b[39m# and minpos would be superfluous. However, we add minpos to\u001b[39;00m\n\u001b[1;32m   2249\u001b[0m         \u001b[39m# the call so that self.dataLim will update its own minpos.\u001b[39;00m\n\u001b[1;32m   2250\u001b[0m         \u001b[39m# This ensures that log scales see the correct minimum.\u001b[39;00m\n",
      "File \u001b[0;32m/usr/local/lib/python3.9/site-packages/matplotlib/quiver.py:555\u001b[0m, in \u001b[0;36mQuiver.get_datalim\u001b[0;34m(self, transData)\u001b[0m\n\u001b[1;32m    553\u001b[0m trans \u001b[39m=\u001b[39m \u001b[39mself\u001b[39m\u001b[39m.\u001b[39mget_transform()\n\u001b[1;32m    554\u001b[0m transOffset \u001b[39m=\u001b[39m \u001b[39mself\u001b[39m\u001b[39m.\u001b[39mget_offset_transform()\n\u001b[0;32m--> 555\u001b[0m full_transform \u001b[39m=\u001b[39m (trans \u001b[39m-\u001b[39;49m transData) \u001b[39m+\u001b[39m (transOffset \u001b[39m-\u001b[39m transData)\n\u001b[1;32m    556\u001b[0m XY \u001b[39m=\u001b[39m full_transform\u001b[39m.\u001b[39mtransform(\u001b[39mself\u001b[39m\u001b[39m.\u001b[39mXY)\n\u001b[1;32m    557\u001b[0m bbox \u001b[39m=\u001b[39m transforms\u001b[39m.\u001b[39mBbox\u001b[39m.\u001b[39mnull()\n",
      "File \u001b[0;32m/usr/local/lib/python3.9/site-packages/matplotlib/transforms.py:1458\u001b[0m, in \u001b[0;36mTransform.__sub__\u001b[0;34m(self, other)\u001b[0m\n\u001b[1;32m   1456\u001b[0m \u001b[39mif\u001b[39;00m \u001b[39mnot\u001b[39;00m \u001b[39misinstance\u001b[39m(other, Transform):\n\u001b[1;32m   1457\u001b[0m     \u001b[39mreturn\u001b[39;00m \u001b[39mNotImplemented\u001b[39m\n\u001b[0;32m-> 1458\u001b[0m \u001b[39mfor\u001b[39;00m remainder, sub_tree \u001b[39min\u001b[39;00m \u001b[39mself\u001b[39m\u001b[39m.\u001b[39m_iter_break_from_left_to_right():\n\u001b[1;32m   1459\u001b[0m     \u001b[39mif\u001b[39;00m sub_tree \u001b[39m==\u001b[39m other:\n\u001b[1;32m   1460\u001b[0m         \u001b[39mreturn\u001b[39;00m remainder\n",
      "File \u001b[0;32m/usr/local/lib/python3.9/site-packages/matplotlib/transforms.py:2404\u001b[0m, in \u001b[0;36mCompositeGenericTransform._iter_break_from_left_to_right\u001b[0;34m(self)\u001b[0m\n\u001b[1;32m   2402\u001b[0m \u001b[39mdef\u001b[39;00m \u001b[39m_iter_break_from_left_to_right\u001b[39m(\u001b[39mself\u001b[39m):\n\u001b[1;32m   2403\u001b[0m     \u001b[39mfor\u001b[39;00m left, right \u001b[39min\u001b[39;00m \u001b[39mself\u001b[39m\u001b[39m.\u001b[39m_a\u001b[39m.\u001b[39m_iter_break_from_left_to_right():\n\u001b[0;32m-> 2404\u001b[0m         \u001b[39myield\u001b[39;00m left, right \u001b[39m+\u001b[39;49m \u001b[39mself\u001b[39;49m\u001b[39m.\u001b[39;49m_b\n\u001b[1;32m   2405\u001b[0m     \u001b[39mfor\u001b[39;00m left, right \u001b[39min\u001b[39;00m \u001b[39mself\u001b[39m\u001b[39m.\u001b[39m_b\u001b[39m.\u001b[39m_iter_break_from_left_to_right():\n\u001b[1;32m   2406\u001b[0m         \u001b[39myield\u001b[39;00m \u001b[39mself\u001b[39m\u001b[39m.\u001b[39m_a \u001b[39m+\u001b[39m left, right\n",
      "File \u001b[0;32m/usr/local/lib/python3.9/site-packages/matplotlib/transforms.py:1355\u001b[0m, in \u001b[0;36mTransform.__add__\u001b[0;34m(self, other)\u001b[0m\n\u001b[1;32m   1348\u001b[0m \u001b[39mdef\u001b[39;00m \u001b[39m__add__\u001b[39m(\u001b[39mself\u001b[39m, other):\n\u001b[1;32m   1349\u001b[0m     \u001b[39m\"\"\"\u001b[39;00m\n\u001b[1;32m   1350\u001b[0m \u001b[39m    Compose two transforms together so that *self* is followed by *other*.\u001b[39;00m\n\u001b[1;32m   1351\u001b[0m \n\u001b[1;32m   1352\u001b[0m \u001b[39m    ``A + B`` returns a transform ``C`` so that\u001b[39;00m\n\u001b[1;32m   1353\u001b[0m \u001b[39m    ``C.transform(x) == B.transform(A.transform(x))``.\u001b[39;00m\n\u001b[1;32m   1354\u001b[0m \u001b[39m    \"\"\"\u001b[39;00m\n\u001b[0;32m-> 1355\u001b[0m     \u001b[39mreturn\u001b[39;00m (composite_transform_factory(\u001b[39mself\u001b[39;49m, other)\n\u001b[1;32m   1356\u001b[0m             \u001b[39mif\u001b[39;00m \u001b[39misinstance\u001b[39m(other, Transform) \u001b[39melse\u001b[39;00m\n\u001b[1;32m   1357\u001b[0m             \u001b[39mNotImplemented\u001b[39m)\n",
      "File \u001b[0;32m/usr/local/lib/python3.9/site-packages/matplotlib/transforms.py:2532\u001b[0m, in \u001b[0;36mcomposite_transform_factory\u001b[0;34m(a, b)\u001b[0m\n\u001b[1;32m   2530\u001b[0m \u001b[39melif\u001b[39;00m \u001b[39misinstance\u001b[39m(a, Affine2D) \u001b[39mand\u001b[39;00m \u001b[39misinstance\u001b[39m(b, Affine2D):\n\u001b[1;32m   2531\u001b[0m     \u001b[39mreturn\u001b[39;00m CompositeAffine2D(a, b)\n\u001b[0;32m-> 2532\u001b[0m \u001b[39mreturn\u001b[39;00m CompositeGenericTransform(a, b)\n",
      "File \u001b[0;32m/usr/local/lib/python3.9/site-packages/matplotlib/transforms.py:2369\u001b[0m, in \u001b[0;36mCompositeGenericTransform.__init__\u001b[0;34m(self, a, b, **kwargs)\u001b[0m\n\u001b[1;32m   2367\u001b[0m \u001b[39mself\u001b[39m\u001b[39m.\u001b[39m_a \u001b[39m=\u001b[39m a\n\u001b[1;32m   2368\u001b[0m \u001b[39mself\u001b[39m\u001b[39m.\u001b[39m_b \u001b[39m=\u001b[39m b\n\u001b[0;32m-> 2369\u001b[0m \u001b[39mself\u001b[39;49m\u001b[39m.\u001b[39;49mset_children(a, b)\n",
      "File \u001b[0;32m/usr/local/lib/python3.9/site-packages/matplotlib/transforms.py:223\u001b[0m, in \u001b[0;36mTransformNode.set_children\u001b[0;34m(self, *children)\u001b[0m\n\u001b[1;32m    217\u001b[0m \u001b[39mfor\u001b[39;00m child \u001b[39min\u001b[39;00m children:\n\u001b[1;32m    218\u001b[0m     \u001b[39m# Use weak references so this dictionary won't keep obsolete nodes\u001b[39;00m\n\u001b[1;32m    219\u001b[0m     \u001b[39m# alive; the callback deletes the dictionary entry. This is a\u001b[39;00m\n\u001b[1;32m    220\u001b[0m     \u001b[39m# performance improvement over using WeakValueDictionary.\u001b[39;00m\n\u001b[1;32m    221\u001b[0m     ref \u001b[39m=\u001b[39m weakref\u001b[39m.\u001b[39mref(\n\u001b[1;32m    222\u001b[0m         \u001b[39mself\u001b[39m, \u001b[39mlambda\u001b[39;00m _, pop\u001b[39m=\u001b[39mchild\u001b[39m.\u001b[39m_parents\u001b[39m.\u001b[39mpop, k\u001b[39m=\u001b[39m\u001b[39mid\u001b[39m(\u001b[39mself\u001b[39m): pop(k))\n\u001b[0;32m--> 223\u001b[0m     child\u001b[39m.\u001b[39;49m_parents[\u001b[39mid\u001b[39;49m(\u001b[39mself\u001b[39;49m)] \u001b[39m=\u001b[39m ref\n",
      "\u001b[0;31mKeyboardInterrupt\u001b[0m: "
     ]
    },
    {
     "data": {
      "image/png": "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",
      "text/plain": [
       "<Figure size 800x800 with 1 Axes>"
      ]
     },
     "metadata": {},
     "output_type": "display_data"
    }
   ],
   "source": [
    "import numpy as np\n",
    "import matplotlib.pyplot as plt\n",
    "from matplotlib.animation import FuncAnimation\n",
    "from IPython.display import HTML, clear_output\n",
    "\n",
    "# Parameters for birds and the simulation\n",
    "N = 200  # Number of birds\n",
    "L = 500  # Size of the domain\n",
    "v_max = 40  # Maximum velocity\n",
    "R = 50  # Observation range\n",
    "# New avoidance radii\n",
    "r_free = 5  # Minimum distance to maintain for free birds\n",
    "r_stuck = 3  # Minimum distance to maintain for stuck birds\n",
    "lambda_c = 0.2  # Strength of the centering behavior\n",
    "lambda_a = 1  # Strength of the avoiding behavior\n",
<<<<<<< HEAD
    "lambda_m = 1 # Strength of the matching behavior\n",
    "Nt = 200  # Number of time steps\n",
    "dt = 0.5  # Time step\n",
=======
    "lambda_m = 0.5  # Strength of the matching behavior\n",
    "Nt = 500  # Number of time steps\n",
    "dt = 1  # Time step\n",
>>>>>>> 9290357 (changes to dispersing model)
    "\n",
    "# Drone parameters\n",
    "Nd = 1  # Number of drones\n",
    "vd = 60  # Velocity of the drone\n",
    "Rd = 75  # Radius of influence of the drone\n",
    "\n",
    "np.random.seed(17)  # set the random number generator seed\n"
   ]
  },
  {
   "cell_type": "code",
   "execution_count": 18,
   "metadata": {},
   "outputs": [],
   "source": [
    "# Initialize birds\n",
    "def initialize_birds(N, L):\n",
    "    positions = np.random.rand(N, 2) * L\n",
    "    velocities = (np.random.rand(N, 2) - 0.5) * v_max\n",
    "    return positions, velocities"
   ]
  },
  {
   "cell_type": "code",
   "execution_count": 19,
   "metadata": {},
   "outputs": [],
   "source": [
    "# Initialize drones\n",
    "def initialize_drones(Nd, L):\n",
    "    # Initialize the drone at (250, 0) with zero velocity\n",
    "    x = np.array([250] * Nd)\n",
    "    y = np.array([0] * Nd)\n",
    "    vx = np.array([0] * Nd)\n",
    "    vy = np.array([0] * Nd)\n",
    "    return x, y, vx, vy\n",
    "# Initialize drone positions and velocities\n",
    "drone_x, drone_y, drone_vx, drone_vy = initialize_drones(Nd, L)"
   ]
  },
  {
   "cell_type": "code",
   "execution_count": 20,
   "metadata": {},
   "outputs": [],
   "source": [
    "# Define functions for the algorithm steps\n",
    "def centre_of_mass(positions, i, R):\n",
    "    neighbors = positions[np.linalg.norm(positions - positions[i], axis=1) < R]\n",
    "    if len(neighbors) == 0: return np.zeros(2)\n",
    "    center = np.mean(neighbors, axis=0)\n",
    "    return lambda_c * (center - positions[i])"
   ]
  },
  {
   "cell_type": "code",
   "execution_count": 21,
   "metadata": {},
   "outputs": [],
   "source": [
    "def avoid_collisions(positions, i, drone_x, drone_y, r, stuck_status, drone_avoidance_distance):\n",
    "    avoid = np.zeros(2)\n",
    "    # Avoid collisions with other birds\n",
    "    for j, position in enumerate(positions):\n",
    "        if i != j:\n",
    "            distance = np.linalg.norm(position - positions[i])\n",
    "            if stuck_status and distance < r_stuck:\n",
    "                avoid += (positions[i] - position)\n",
    "            elif not stuck_status and distance < r_free:\n",
    "                avoid += (positions[i] - position)\n",
    "\n",
    "    # Avoid collisions with the drone\n",
    "    drone_distance = np.linalg.norm(np.array([drone_x[0], drone_y[0]]) - positions[i])\n",
    "    if drone_distance < drone_avoidance_distance:\n",
    "        avoid += (positions[i] - np.array([drone_x[0], drone_y[0]]))\n",
    "\n",
    "    return lambda_a * avoid"
   ]
  },
  {
   "cell_type": "code",
   "execution_count": 22,
   "metadata": {},
   "outputs": [],
   "source": [
    "def match_velocities(velocities, positions, i, R):\n",
    "    neighbors = velocities[np.linalg.norm(positions - positions[i], axis=1) < R]\n",
    "    if len(neighbors) == 0: return np.zeros(2)\n",
    "    avg_velocity = np.mean(neighbors, axis=0)\n",
    "    return lambda_m * (avg_velocity - velocities[i])\n",
    "\n",
    "def limit_speed(velocity, v_max):\n",
    "    speed = np.linalg.norm(velocity)\n",
    "    if speed > v_max:\n",
    "        return (velocity / speed) * v_max\n",
    "    return velocity"
   ]
  },
  {
   "cell_type": "code",
   "execution_count": 23,
   "metadata": {},
   "outputs": [],
   "source": [
    "\n",
    "# Your version of update_drones\n",
    "def update_drones(drone_x, drone_y, drone_vx, drone_vy, x, y, L, vd, dt, stuck_birds, Rd, N, in_target_area):\n",
    "    Nd = len(drone_x)  # Number of drones\n",
    "    target_x, target_y = 50, 40  # Target position for horizontal movement\n",
    "    horizontal_end = 450  # End position for the horizontal movement\n",
    "    grey_zone_x, grey_zone_y = 250, 37.5  # Position of the grey zone\n",
    "    velocity_change_factor = 0.2  # Increase smoothing factor for velocity change\n",
    "\n",
    "    for i in range(Nd):\n",
    "        if len(stuck_birds) < N:\n",
    "            # Attract Mode: Move towards the closest free bird\n",
    "            free_birds = np.array([j for j in range(N) if j not in stuck_birds])\n",
    "            if len(free_birds) > 0:\n",
    "                distances = np.sqrt((x[free_birds] - drone_x[i])**2 + (y[free_birds] - drone_y[i])**2)\n",
    "                closest_bird = free_birds[np.argmin(distances)]\n",
    "                target_dx = x[closest_bird] - drone_x[i]\n",
    "                target_dy = y[closest_bird] - drone_y[i]\n",
    "                target_distance = np.sqrt(target_dx**2 + target_dy**2)\n",
    "                desired_vx = vd * (target_dx / target_distance) if target_distance > 0 else 0\n",
    "                desired_vy = vd * (target_dy / target_distance) if target_distance > 0 else 0\n",
    "                # Smoother adjustment of the drone's velocity\n",
    "                drone_vx[i] = (1 - velocity_change_factor) * drone_vx[i] + velocity_change_factor * desired_vx\n",
    "                drone_vy[i] = (1 - velocity_change_factor) * drone_vy[i] + velocity_change_factor * desired_vy\n",
    "                if target_distance < Rd:\n",
    "                    stuck_birds.add(closest_bird)\n",
    "        else:\n",
    "            # Return and Pattern Mode: Once all birds are stuck\n",
    "            if not in_target_area:\n",
    "                # Smoother flight towards the grey zone\n",
    "                target_dx = grey_zone_x - drone_x[i]\n",
    "                target_dy = grey_zone_y - drone_y[i]\n",
    "                target_distance = np.sqrt(target_dx**2 + target_dy**2)\n",
    "                desired_vx = vd * (target_dx / target_distance) if target_distance > 0 else 0\n",
    "                desired_vy = vd * (target_dy / target_distance) if target_distance > 0 else 0\n",
    "                drone_vx[i] = (1 - velocity_change_factor) * drone_vx[i] + velocity_change_factor * desired_vx\n",
    "                drone_vy[i] = (1 - velocity_change_factor) * drone_vy[i] + velocity_change_factor * desired_vy\n",
    "                if target_distance < 10:\n",
    "                    in_target_area = True\n",
    "            else:\n",
    "                # Smooth horizontal movement\n",
    "                if drone_x[i] < horizontal_end:\n",
    "                    drone_vx[i] = (1 - velocity_change_factor) * drone_vx[i] + velocity_change_factor * vd\n",
    "                    drone_vy[i] = (1 - velocity_change_factor) * drone_vy[i]\n",
    "                else:\n",
    "                    drone_x[i] = target_x\n",
    "\n",
    "       # Update drone position\n",
    "        drone_x[i] += drone_vx[i] * dt\n",
    "        drone_y[i] += drone_vy[i] * dt\n",
    "\n",
    "        # Apply wall boundary conditions\n",
    "        if drone_x[i] < 0 or drone_x[i] > L:\n",
    "            drone_vx[i] *= -1  # Reverse x direction\n",
    "            drone_x[i] = np.clip(drone_x[i], 0, L)\n",
    "        if drone_y[i] < 0 or drone_y[i] > L:\n",
    "            drone_vy[i] *= -1  # Reverse y direction\n",
    "            drone_y[i] = np.clip(drone_y[i], 0, L)\n",
    "\n",
    "    return drone_x, drone_y, drone_vx, drone_vy, in_target_area"
   ]
  },
  {
   "cell_type": "code",
   "execution_count": 24,
   "metadata": {},
   "outputs": [],
   "source": [
    "\n",
    "def update_birds(positions, velocities, R, r_free, r_stuck, v_max, drone_x, drone_y, vd, dt, Rd, stuck_birds, L):\n",
    "    delay_factor = 15  # Adjust for more or less delay\n",
    "    drone_avoidance_distance = 2  # Minimum distance to maintain from the drone\n",
    "\n",
    "    for i in range(N):\n",
    "        is_stuck = i in stuck_birds\n",
    "\n",
    "        # Calculate the angle from the bird to the drone for stuck birds\n",
    "        angle_to_drone = np.arctan2(drone_y[0] - positions[i, 1], drone_x[0] - positions[i, 0])\n",
    "        desired_vx = vd * np.cos(angle_to_drone)\n",
    "        desired_vy = vd * np.sin(angle_to_drone)\n",
    "\n",
    "        if is_stuck:\n",
    "            # For stuck birds, use the drone as the center of mass and include drone in avoidance\n",
    "            v_c = lambda_c * (np.array([drone_x[0], drone_y[0]]) - positions[i])\n",
    "            v_a = avoid_collisions(positions, i, drone_x, drone_y, r_stuck, is_stuck, drone_avoidance_distance)\n",
    "            v_m = match_velocities(velocities, positions, i, R)\n",
    "\n",
    "            # Combine the flocking behavior with gradual adjustment towards the drone\n",
    "            new_velocity = velocities[i] + v_c + v_a + v_m\n",
    "            new_velocity = limit_speed(new_velocity, v_max)\n",
    "            velocities[i] += delay_factor * (new_velocity - velocities[i])  # Apply delay        \n",
    "        else:\n",
    "            # Normal flocking behavior for free birds\n",
    "            v_c = centre_of_mass(positions, i, R)\n",
    "            v_a = avoid_collisions(positions, i, drone_x, drone_y, r_free, is_stuck, drone_avoidance_distance)\n",
    "            v_m = match_velocities(velocities, positions, i, R)\n",
    "            velocities[i] += v_c + v_a + v_m\n",
    "\n",
    "        # Ensure the velocity stays within max limits\n",
    "        velocities[i] = limit_speed(velocities[i], v_max)\n",
    "\n",
    "        # Update positions\n",
    "        positions[i] += velocities[i] * dt\n",
    "\n",
    "        # Implement wall boundaries\n",
    "        if positions[i, 0] < 0 or positions[i, 0] > L:\n",
    "            velocities[i, 0] *= -1  # Reverse direction\n",
    "            positions[i, 0] = np.clip(positions[i, 0], 0, L)\n",
    "        if positions[i, 1] < 0 or positions[i, 1] > L:\n",
    "            velocities[i, 1] *= -1  # Reverse direction\n",
    "            positions[i, 1] = np.clip(positions[i, 1], 0, L)\n",
    "\n",
    "    return positions, velocities"
   ]
  },
  {
   "cell_type": "code",
   "execution_count": 25,
   "metadata": {},
   "outputs": [],
   "source": [
    "def are_all_birds_stuck(stuck_birds, N):\n",
    "    return len(stuck_birds) == N"
   ]
  },
  {
   "cell_type": "code",
   "execution_count": 26,
   "metadata": {},
   "outputs": [
    {
     "ename": "KeyboardInterrupt",
     "evalue": "",
     "output_type": "error",
     "traceback": [
      "\u001b[1;31m---------------------------------------------------------------------------\u001b[0m",
      "\u001b[1;31mKeyboardInterrupt\u001b[0m                         Traceback (most recent call last)",
      "\u001b[1;32mc:\\Flocking-Drone-Control\\attracting_mode.ipynb Cell 10\u001b[0m line \u001b[0;36m4\n\u001b[0;32m     <a href='vscode-notebook-cell:/c%3A/Flocking-Drone-Control/attracting_mode.ipynb#X13sZmlsZQ%3D%3D?line=40'>41</a>\u001b[0m drone_x, drone_y, drone_vx, drone_vy, in_target_area \u001b[39m=\u001b[39m update_drones(drone_x, drone_y, drone_vx, drone_vy, positions[:, \u001b[39m0\u001b[39m], positions[:, \u001b[39m1\u001b[39m], L, vd, dt, stuck_birds, Rd, N, in_target_area)\n\u001b[0;32m     <a href='vscode-notebook-cell:/c%3A/Flocking-Drone-Control/attracting_mode.ipynb#X13sZmlsZQ%3D%3D?line=41'>42</a>\u001b[0m positions, velocities \u001b[39m=\u001b[39m update_birds(positions, velocities, R, r_free, r_stuck, v_max, drone_x, drone_y, vd, dt, Rd, stuck_birds, L)\n\u001b[1;32m---> <a href='vscode-notebook-cell:/c%3A/Flocking-Drone-Control/attracting_mode.ipynb#X13sZmlsZQ%3D%3D?line=42'>43</a>\u001b[0m visualize(positions, velocities, drone_x, drone_y, stuck_birds)\n\u001b[0;32m     <a href='vscode-notebook-cell:/c%3A/Flocking-Drone-Control/attracting_mode.ipynb#X13sZmlsZQ%3D%3D?line=43'>44</a>\u001b[0m clear_output(wait\u001b[39m=\u001b[39m\u001b[39mTrue\u001b[39;00m)\n",
      "\u001b[1;32mc:\\Flocking-Drone-Control\\attracting_mode.ipynb Cell 10\u001b[0m line \u001b[0;36m3\n\u001b[0;32m     <a href='vscode-notebook-cell:/c%3A/Flocking-Drone-Control/attracting_mode.ipynb#X13sZmlsZQ%3D%3D?line=25'>26</a>\u001b[0m plt\u001b[39m.\u001b[39mtext(\u001b[39m550\u001b[39m, \u001b[39m30\u001b[39m, \u001b[39mf\u001b[39m\u001b[39m'\u001b[39m\u001b[39mFree Birds: \u001b[39m\u001b[39m{\u001b[39;00mnum_free_birds\u001b[39m}\u001b[39;00m\u001b[39m'\u001b[39m, fontsize\u001b[39m=\u001b[39m\u001b[39m12\u001b[39m, color\u001b[39m=\u001b[39m\u001b[39m'\u001b[39m\u001b[39mred\u001b[39m\u001b[39m'\u001b[39m)\n\u001b[0;32m     <a href='vscode-notebook-cell:/c%3A/Flocking-Drone-Control/attracting_mode.ipynb#X13sZmlsZQ%3D%3D?line=27'>28</a>\u001b[0m plt\u001b[39m.\u001b[39mtitle(\u001b[39m\"\u001b[39m\u001b[39mBirds and Drones Interaction\u001b[39m\u001b[39m\"\u001b[39m)\n\u001b[1;32m---> <a href='vscode-notebook-cell:/c%3A/Flocking-Drone-Control/attracting_mode.ipynb#X13sZmlsZQ%3D%3D?line=29'>30</a>\u001b[0m plt\u001b[39m.\u001b[39mshow()\n",
      "File \u001b[1;32mc:\\Users\\adilm\\anaconda3\\Lib\\site-packages\\matplotlib\\pyplot.py:446\u001b[0m, in \u001b[0;36mshow\u001b[1;34m(*args, **kwargs)\u001b[0m\n\u001b[0;32m    402\u001b[0m \u001b[39m\u001b[39m\u001b[39m\"\"\"\u001b[39;00m\n\u001b[0;32m    403\u001b[0m \u001b[39mDisplay all open figures.\u001b[39;00m\n\u001b[0;32m    404\u001b[0m \n\u001b[1;32m   (...)\u001b[0m\n\u001b[0;32m    443\u001b[0m \u001b[39mexplicitly there.\u001b[39;00m\n\u001b[0;32m    444\u001b[0m \u001b[39m\"\"\"\u001b[39;00m\n\u001b[0;32m    445\u001b[0m _warn_if_gui_out_of_main_thread()\n\u001b[1;32m--> 446\u001b[0m \u001b[39mreturn\u001b[39;00m _get_backend_mod()\u001b[39m.\u001b[39mshow(\u001b[39m*\u001b[39margs, \u001b[39m*\u001b[39m\u001b[39m*\u001b[39mkwargs)\n",
      "File \u001b[1;32mc:\\Users\\adilm\\anaconda3\\Lib\\site-packages\\matplotlib_inline\\backend_inline.py:90\u001b[0m, in \u001b[0;36mshow\u001b[1;34m(close, block)\u001b[0m\n\u001b[0;32m     88\u001b[0m \u001b[39mtry\u001b[39;00m:\n\u001b[0;32m     89\u001b[0m     \u001b[39mfor\u001b[39;00m figure_manager \u001b[39min\u001b[39;00m Gcf\u001b[39m.\u001b[39mget_all_fig_managers():\n\u001b[1;32m---> 90\u001b[0m         display(\n\u001b[0;32m     91\u001b[0m             figure_manager\u001b[39m.\u001b[39mcanvas\u001b[39m.\u001b[39mfigure,\n\u001b[0;32m     92\u001b[0m             metadata\u001b[39m=\u001b[39m_fetch_figure_metadata(figure_manager\u001b[39m.\u001b[39mcanvas\u001b[39m.\u001b[39mfigure)\n\u001b[0;32m     93\u001b[0m         )\n\u001b[0;32m     94\u001b[0m \u001b[39mfinally\u001b[39;00m:\n\u001b[0;32m     95\u001b[0m     show\u001b[39m.\u001b[39m_to_draw \u001b[39m=\u001b[39m []\n",
      "File \u001b[1;32mc:\\Users\\adilm\\anaconda3\\Lib\\site-packages\\IPython\\core\\display_functions.py:298\u001b[0m, in \u001b[0;36mdisplay\u001b[1;34m(include, exclude, metadata, transient, display_id, raw, clear, *objs, **kwargs)\u001b[0m\n\u001b[0;32m    296\u001b[0m     publish_display_data(data\u001b[39m=\u001b[39mobj, metadata\u001b[39m=\u001b[39mmetadata, \u001b[39m*\u001b[39m\u001b[39m*\u001b[39mkwargs)\n\u001b[0;32m    297\u001b[0m \u001b[39melse\u001b[39;00m:\n\u001b[1;32m--> 298\u001b[0m     format_dict, md_dict \u001b[39m=\u001b[39m \u001b[39mformat\u001b[39m(obj, include\u001b[39m=\u001b[39minclude, exclude\u001b[39m=\u001b[39mexclude)\n\u001b[0;32m    299\u001b[0m     \u001b[39mif\u001b[39;00m \u001b[39mnot\u001b[39;00m format_dict:\n\u001b[0;32m    300\u001b[0m         \u001b[39m# nothing to display (e.g. _ipython_display_ took over)\u001b[39;00m\n\u001b[0;32m    301\u001b[0m         \u001b[39mcontinue\u001b[39;00m\n",
      "File \u001b[1;32mc:\\Users\\adilm\\anaconda3\\Lib\\site-packages\\IPython\\core\\formatters.py:179\u001b[0m, in \u001b[0;36mDisplayFormatter.format\u001b[1;34m(self, obj, include, exclude)\u001b[0m\n\u001b[0;32m    177\u001b[0m md \u001b[39m=\u001b[39m \u001b[39mNone\u001b[39;00m\n\u001b[0;32m    178\u001b[0m \u001b[39mtry\u001b[39;00m:\n\u001b[1;32m--> 179\u001b[0m     data \u001b[39m=\u001b[39m formatter(obj)\n\u001b[0;32m    180\u001b[0m \u001b[39mexcept\u001b[39;00m:\n\u001b[0;32m    181\u001b[0m     \u001b[39m# FIXME: log the exception\u001b[39;00m\n\u001b[0;32m    182\u001b[0m     \u001b[39mraise\u001b[39;00m\n",
      "File \u001b[1;32mc:\\Users\\adilm\\anaconda3\\Lib\\site-packages\\decorator.py:232\u001b[0m, in \u001b[0;36mdecorate.<locals>.fun\u001b[1;34m(*args, **kw)\u001b[0m\n\u001b[0;32m    230\u001b[0m \u001b[39mif\u001b[39;00m \u001b[39mnot\u001b[39;00m kwsyntax:\n\u001b[0;32m    231\u001b[0m     args, kw \u001b[39m=\u001b[39m fix(args, kw, sig)\n\u001b[1;32m--> 232\u001b[0m \u001b[39mreturn\u001b[39;00m caller(func, \u001b[39m*\u001b[39m(extras \u001b[39m+\u001b[39m args), \u001b[39m*\u001b[39m\u001b[39m*\u001b[39mkw)\n",
      "File \u001b[1;32mc:\\Users\\adilm\\anaconda3\\Lib\\site-packages\\IPython\\core\\formatters.py:223\u001b[0m, in \u001b[0;36mcatch_format_error\u001b[1;34m(method, self, *args, **kwargs)\u001b[0m\n\u001b[0;32m    221\u001b[0m \u001b[39m\u001b[39m\u001b[39m\"\"\"show traceback on failed format call\"\"\"\u001b[39;00m\n\u001b[0;32m    222\u001b[0m \u001b[39mtry\u001b[39;00m:\n\u001b[1;32m--> 223\u001b[0m     r \u001b[39m=\u001b[39m method(\u001b[39mself\u001b[39m, \u001b[39m*\u001b[39margs, \u001b[39m*\u001b[39m\u001b[39m*\u001b[39mkwargs)\n\u001b[0;32m    224\u001b[0m \u001b[39mexcept\u001b[39;00m \u001b[39mNotImplementedError\u001b[39;00m:\n\u001b[0;32m    225\u001b[0m     \u001b[39m# don't warn on NotImplementedErrors\u001b[39;00m\n\u001b[0;32m    226\u001b[0m     \u001b[39mreturn\u001b[39;00m \u001b[39mself\u001b[39m\u001b[39m.\u001b[39m_check_return(\u001b[39mNone\u001b[39;00m, args[\u001b[39m0\u001b[39m])\n",
      "File \u001b[1;32mc:\\Users\\adilm\\anaconda3\\Lib\\site-packages\\IPython\\core\\formatters.py:340\u001b[0m, in \u001b[0;36mBaseFormatter.__call__\u001b[1;34m(self, obj)\u001b[0m\n\u001b[0;32m    338\u001b[0m     \u001b[39mpass\u001b[39;00m\n\u001b[0;32m    339\u001b[0m \u001b[39melse\u001b[39;00m:\n\u001b[1;32m--> 340\u001b[0m     \u001b[39mreturn\u001b[39;00m printer(obj)\n\u001b[0;32m    341\u001b[0m \u001b[39m# Finally look for special method names\u001b[39;00m\n\u001b[0;32m    342\u001b[0m method \u001b[39m=\u001b[39m get_real_method(obj, \u001b[39mself\u001b[39m\u001b[39m.\u001b[39mprint_method)\n",
      "File \u001b[1;32mc:\\Users\\adilm\\anaconda3\\Lib\\site-packages\\IPython\\core\\pylabtools.py:152\u001b[0m, in \u001b[0;36mprint_figure\u001b[1;34m(fig, fmt, bbox_inches, base64, **kwargs)\u001b[0m\n\u001b[0;32m    149\u001b[0m     \u001b[39mfrom\u001b[39;00m \u001b[39mmatplotlib\u001b[39;00m\u001b[39m.\u001b[39;00m\u001b[39mbackend_bases\u001b[39;00m \u001b[39mimport\u001b[39;00m FigureCanvasBase\n\u001b[0;32m    150\u001b[0m     FigureCanvasBase(fig)\n\u001b[1;32m--> 152\u001b[0m fig\u001b[39m.\u001b[39mcanvas\u001b[39m.\u001b[39mprint_figure(bytes_io, \u001b[39m*\u001b[39m\u001b[39m*\u001b[39mkw)\n\u001b[0;32m    153\u001b[0m data \u001b[39m=\u001b[39m bytes_io\u001b[39m.\u001b[39mgetvalue()\n\u001b[0;32m    154\u001b[0m \u001b[39mif\u001b[39;00m fmt \u001b[39m==\u001b[39m \u001b[39m'\u001b[39m\u001b[39msvg\u001b[39m\u001b[39m'\u001b[39m:\n",
      "File \u001b[1;32mc:\\Users\\adilm\\anaconda3\\Lib\\site-packages\\matplotlib\\backend_bases.py:2346\u001b[0m, in \u001b[0;36mFigureCanvasBase.print_figure\u001b[1;34m(self, filename, dpi, facecolor, edgecolor, orientation, format, bbox_inches, pad_inches, bbox_extra_artists, backend, **kwargs)\u001b[0m\n\u001b[0;32m   2344\u001b[0m \u001b[39mif\u001b[39;00m bbox_inches:\n\u001b[0;32m   2345\u001b[0m     \u001b[39mif\u001b[39;00m bbox_inches \u001b[39m==\u001b[39m \u001b[39m\"\u001b[39m\u001b[39mtight\u001b[39m\u001b[39m\"\u001b[39m:\n\u001b[1;32m-> 2346\u001b[0m         bbox_inches \u001b[39m=\u001b[39m \u001b[39mself\u001b[39m\u001b[39m.\u001b[39mfigure\u001b[39m.\u001b[39mget_tightbbox(\n\u001b[0;32m   2347\u001b[0m             renderer, bbox_extra_artists\u001b[39m=\u001b[39mbbox_extra_artists)\n\u001b[0;32m   2348\u001b[0m         \u001b[39mif\u001b[39;00m pad_inches \u001b[39mis\u001b[39;00m \u001b[39mNone\u001b[39;00m:\n\u001b[0;32m   2349\u001b[0m             pad_inches \u001b[39m=\u001b[39m rcParams[\u001b[39m'\u001b[39m\u001b[39msavefig.pad_inches\u001b[39m\u001b[39m'\u001b[39m]\n",
      "File \u001b[1;32mc:\\Users\\adilm\\anaconda3\\Lib\\site-packages\\matplotlib\\figure.py:1776\u001b[0m, in \u001b[0;36mFigureBase.get_tightbbox\u001b[1;34m(self, renderer, bbox_extra_artists)\u001b[0m\n\u001b[0;32m   1773\u001b[0m     artists \u001b[39m=\u001b[39m bbox_extra_artists\n\u001b[0;32m   1775\u001b[0m \u001b[39mfor\u001b[39;00m a \u001b[39min\u001b[39;00m artists:\n\u001b[1;32m-> 1776\u001b[0m     bbox \u001b[39m=\u001b[39m a\u001b[39m.\u001b[39mget_tightbbox(renderer)\n\u001b[0;32m   1777\u001b[0m     \u001b[39mif\u001b[39;00m bbox \u001b[39mis\u001b[39;00m \u001b[39mnot\u001b[39;00m \u001b[39mNone\u001b[39;00m:\n\u001b[0;32m   1778\u001b[0m         bb\u001b[39m.\u001b[39mappend(bbox)\n",
      "File \u001b[1;32mc:\\Users\\adilm\\anaconda3\\Lib\\site-packages\\matplotlib\\axes\\_base.py:4408\u001b[0m, in \u001b[0;36m_AxesBase.get_tightbbox\u001b[1;34m(self, renderer, call_axes_locator, bbox_extra_artists, for_layout_only)\u001b[0m\n\u001b[0;32m   4405\u001b[0m     bbox_artists \u001b[39m=\u001b[39m \u001b[39mself\u001b[39m\u001b[39m.\u001b[39mget_default_bbox_extra_artists()\n\u001b[0;32m   4407\u001b[0m \u001b[39mfor\u001b[39;00m a \u001b[39min\u001b[39;00m bbox_artists:\n\u001b[1;32m-> 4408\u001b[0m     bbox \u001b[39m=\u001b[39m a\u001b[39m.\u001b[39mget_tightbbox(renderer)\n\u001b[0;32m   4409\u001b[0m     \u001b[39mif\u001b[39;00m (bbox \u001b[39mis\u001b[39;00m \u001b[39mnot\u001b[39;00m \u001b[39mNone\u001b[39;00m\n\u001b[0;32m   4410\u001b[0m             \u001b[39mand\u001b[39;00m \u001b[39m0\u001b[39m \u001b[39m<\u001b[39m bbox\u001b[39m.\u001b[39mwidth \u001b[39m<\u001b[39m np\u001b[39m.\u001b[39minf\n\u001b[0;32m   4411\u001b[0m             \u001b[39mand\u001b[39;00m \u001b[39m0\u001b[39m \u001b[39m<\u001b[39m bbox\u001b[39m.\u001b[39mheight \u001b[39m<\u001b[39m np\u001b[39m.\u001b[39minf):\n\u001b[0;32m   4412\u001b[0m         bb\u001b[39m.\u001b[39mappend(bbox)\n",
      "File \u001b[1;32mc:\\Users\\adilm\\anaconda3\\Lib\\site-packages\\matplotlib\\artist.py:367\u001b[0m, in \u001b[0;36mArtist.get_tightbbox\u001b[1;34m(self, renderer)\u001b[0m\n\u001b[0;32m    352\u001b[0m \u001b[39mdef\u001b[39;00m \u001b[39mget_tightbbox\u001b[39m(\u001b[39mself\u001b[39m, renderer\u001b[39m=\u001b[39m\u001b[39mNone\u001b[39;00m):\n\u001b[0;32m    353\u001b[0m \u001b[39m    \u001b[39m\u001b[39m\"\"\"\u001b[39;00m\n\u001b[0;32m    354\u001b[0m \u001b[39m    Like `.Artist.get_window_extent`, but includes any clipping.\u001b[39;00m\n\u001b[0;32m    355\u001b[0m \n\u001b[1;32m   (...)\u001b[0m\n\u001b[0;32m    365\u001b[0m \u001b[39m        The enclosing bounding box (in figure pixel coordinates).\u001b[39;00m\n\u001b[0;32m    366\u001b[0m \u001b[39m    \"\"\"\u001b[39;00m\n\u001b[1;32m--> 367\u001b[0m     bbox \u001b[39m=\u001b[39m \u001b[39mself\u001b[39m\u001b[39m.\u001b[39mget_window_extent(renderer)\n\u001b[0;32m    368\u001b[0m     \u001b[39mif\u001b[39;00m \u001b[39mself\u001b[39m\u001b[39m.\u001b[39mget_clip_on():\n\u001b[0;32m    369\u001b[0m         clip_box \u001b[39m=\u001b[39m \u001b[39mself\u001b[39m\u001b[39m.\u001b[39mget_clip_box()\n",
      "File \u001b[1;32mc:\\Users\\adilm\\anaconda3\\Lib\\site-packages\\matplotlib\\text.py:961\u001b[0m, in \u001b[0;36mText.get_window_extent\u001b[1;34m(self, renderer, dpi)\u001b[0m\n\u001b[0;32m    959\u001b[0m bbox, info, descent \u001b[39m=\u001b[39m \u001b[39mself\u001b[39m\u001b[39m.\u001b[39m_get_layout(\u001b[39mself\u001b[39m\u001b[39m.\u001b[39m_renderer)\n\u001b[0;32m    960\u001b[0m x, y \u001b[39m=\u001b[39m \u001b[39mself\u001b[39m\u001b[39m.\u001b[39mget_unitless_position()\n\u001b[1;32m--> 961\u001b[0m x, y \u001b[39m=\u001b[39m \u001b[39mself\u001b[39m\u001b[39m.\u001b[39mget_transform()\u001b[39m.\u001b[39mtransform((x, y))\n\u001b[0;32m    962\u001b[0m bbox \u001b[39m=\u001b[39m bbox\u001b[39m.\u001b[39mtranslated(x, y)\n\u001b[0;32m    963\u001b[0m \u001b[39mreturn\u001b[39;00m bbox\n",
      "File \u001b[1;32mc:\\Users\\adilm\\anaconda3\\Lib\\site-packages\\matplotlib\\transforms.py:1498\u001b[0m, in \u001b[0;36mTransform.transform\u001b[1;34m(self, values)\u001b[0m\n\u001b[0;32m   1495\u001b[0m values \u001b[39m=\u001b[39m values\u001b[39m.\u001b[39mreshape((\u001b[39m-\u001b[39m\u001b[39m1\u001b[39m, \u001b[39mself\u001b[39m\u001b[39m.\u001b[39minput_dims))\n\u001b[0;32m   1497\u001b[0m \u001b[39m# Transform the values\u001b[39;00m\n\u001b[1;32m-> 1498\u001b[0m res \u001b[39m=\u001b[39m \u001b[39mself\u001b[39m\u001b[39m.\u001b[39mtransform_affine(\u001b[39mself\u001b[39m\u001b[39m.\u001b[39mtransform_non_affine(values))\n\u001b[0;32m   1500\u001b[0m \u001b[39m# Convert the result back to the shape of the input values.\u001b[39;00m\n\u001b[0;32m   1501\u001b[0m \u001b[39mif\u001b[39;00m ndim \u001b[39m==\u001b[39m \u001b[39m0\u001b[39m:\n",
      "File \u001b[1;32mc:\\Users\\adilm\\anaconda3\\Lib\\site-packages\\matplotlib\\transforms.py:2423\u001b[0m, in \u001b[0;36mCompositeGenericTransform.transform_affine\u001b[1;34m(self, points)\u001b[0m\n\u001b[0;32m   2421\u001b[0m \u001b[39mdef\u001b[39;00m \u001b[39mtransform_affine\u001b[39m(\u001b[39mself\u001b[39m, points):\n\u001b[0;32m   2422\u001b[0m     \u001b[39m# docstring inherited\u001b[39;00m\n\u001b[1;32m-> 2423\u001b[0m     \u001b[39mreturn\u001b[39;00m \u001b[39mself\u001b[39m\u001b[39m.\u001b[39mget_affine()\u001b[39m.\u001b[39mtransform(points)\n",
      "File \u001b[1;32mc:\\Users\\adilm\\anaconda3\\Lib\\site-packages\\matplotlib\\transforms.py:2449\u001b[0m, in \u001b[0;36mCompositeGenericTransform.get_affine\u001b[1;34m(self)\u001b[0m\n\u001b[0;32m   2447\u001b[0m     \u001b[39mreturn\u001b[39;00m \u001b[39mself\u001b[39m\u001b[39m.\u001b[39m_b\u001b[39m.\u001b[39mget_affine()\n\u001b[0;32m   2448\u001b[0m \u001b[39melse\u001b[39;00m:\n\u001b[1;32m-> 2449\u001b[0m     \u001b[39mreturn\u001b[39;00m Affine2D(np\u001b[39m.\u001b[39mdot(\u001b[39mself\u001b[39m\u001b[39m.\u001b[39m_b\u001b[39m.\u001b[39mget_affine()\u001b[39m.\u001b[39mget_matrix(),\n\u001b[0;32m   2450\u001b[0m                            \u001b[39mself\u001b[39m\u001b[39m.\u001b[39m_a\u001b[39m.\u001b[39mget_affine()\u001b[39m.\u001b[39mget_matrix()))\n",
      "File \u001b[1;32mc:\\Users\\adilm\\anaconda3\\Lib\\site-packages\\matplotlib\\transforms.py:2449\u001b[0m, in \u001b[0;36mCompositeGenericTransform.get_affine\u001b[1;34m(self)\u001b[0m\n\u001b[0;32m   2447\u001b[0m     \u001b[39mreturn\u001b[39;00m \u001b[39mself\u001b[39m\u001b[39m.\u001b[39m_b\u001b[39m.\u001b[39mget_affine()\n\u001b[0;32m   2448\u001b[0m \u001b[39melse\u001b[39;00m:\n\u001b[1;32m-> 2449\u001b[0m     \u001b[39mreturn\u001b[39;00m Affine2D(np\u001b[39m.\u001b[39mdot(\u001b[39mself\u001b[39m\u001b[39m.\u001b[39m_b\u001b[39m.\u001b[39mget_affine()\u001b[39m.\u001b[39mget_matrix(),\n\u001b[0;32m   2450\u001b[0m                            \u001b[39mself\u001b[39m\u001b[39m.\u001b[39m_a\u001b[39m.\u001b[39mget_affine()\u001b[39m.\u001b[39mget_matrix()))\n",
      "File \u001b[1;32m<__array_function__ internals>:200\u001b[0m, in \u001b[0;36mdot\u001b[1;34m(*args, **kwargs)\u001b[0m\n",
      "\u001b[1;31mKeyboardInterrupt\u001b[0m: "
     ]
    }
   ],
   "source": [
    "\n",
    "def visualize(positions, velocities, drone_x, drone_y, stuck_birds):\n",
    "    plt.figure(figsize=(8, 8))\n",
    "    plt.xlim(0, L)\n",
    "    plt.ylim(0, L)\n",
    "\n",
    "    # Draw and label the target area as a grey square\n",
    "     # Draw the target area as a grey rectangle\n",
    "    plt.gca().add_patch(plt.Rectangle((0, 0), 500, 50, fill=True, color='grey', alpha=0.3, label='Target Area'))\n",
    "\n",
    "    num_stuck_birds = len(stuck_birds)\n",
    "    num_free_birds = N - num_stuck_birds\n",
    "\n",
    "    # Plot free birds as red and stuck birds as green\n",
    "    for i in range(N):\n",
    "        if i in stuck_birds:\n",
    "            plt.quiver(positions[i, 0], positions[i, 1], velocities[i, 0], velocities[i, 1], color='green', angles='xy', scale_units='xy', scale=25, width=0.005, headwidth=3, headlength=5)\n",
    "        else:\n",
    "            plt.quiver(positions[i, 0], positions[i, 1], velocities[i, 0], velocities[i, 1], color='red', angles='xy', scale_units='xy', scale=25, width=0.005, headwidth=3, headlength=5)\n",
    "\n",
    "    plt.scatter(drone_x, drone_y, color='blue', s=100, marker='d')\n",
    "\n",
    "    # Add text for labels and bird counts\n",
    "    plt.text(550, 70, 'Attracting Drone', fontsize=12, color='blue')\n",
    "    plt.text(550, 50, 'Bird Target Area', fontsize=12, color='grey')\n",
    "    plt.text(550, 10, f'Stuck Birds: {num_stuck_birds}', fontsize=12, color='green')\n",
    "    plt.text(550, 30, f'Free Birds: {num_free_birds}', fontsize=12, color='red')\n",
    "\n",
    "    plt.title(\"Birds and Drones Interaction\")\n",
    "    \n",
    "    plt.show()\n",
    "\n",
    "    \n",
    "\n",
    "positions, velocities = initialize_birds(N, L)\n",
    "drone_x, drone_y, drone_vx, drone_vy = initialize_drones(Nd, L)\n",
    "stuck_birds = set()\n",
    "in_target_area = False\n",
    "\n",
    "# Main simulation loop\n",
    "for t in range(Nt):\n",
    "    drone_x, drone_y, drone_vx, drone_vy, in_target_area = update_drones(drone_x, drone_y, drone_vx, drone_vy, positions[:, 0], positions[:, 1], L, vd, dt, stuck_birds, Rd, N, in_target_area)\n",
    "    positions, velocities = update_birds(positions, velocities, R, r_free, r_stuck, v_max, drone_x, drone_y, vd, dt, Rd, stuck_birds, L)\n",
    "    visualize(positions, velocities, drone_x, drone_y, stuck_birds)\n",
    "    clear_output(wait=True)"
   ]
  }
 ],
 "metadata": {
  "kernelspec": {
<<<<<<< HEAD
   "display_name": "base",
=======
   "display_name": "Python 3",
>>>>>>> 9290357 (changes to dispersing model)
   "language": "python",
   "name": "python3"
  },
  "language_info": {
   "codemirror_mode": {
    "name": "ipython",
    "version": 3
   },
   "file_extension": ".py",
   "mimetype": "text/x-python",
   "name": "python",
   "nbconvert_exporter": "python",
   "pygments_lexer": "ipython3",
<<<<<<< HEAD
   "version": "3.11.5"
=======
   "version": "3.9.10"
>>>>>>> 9290357 (changes to dispersing model)
  }
 },
 "nbformat": 4,
 "nbformat_minor": 2
}
